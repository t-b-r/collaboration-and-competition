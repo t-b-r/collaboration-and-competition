{
 "cells": [
  {
   "cell_type": "markdown",
   "metadata": {},
   "source": [
    "# Collaboration and Competition\n",
    "\n",
    "---\n",
    "\n",
    "In this notebook, you will learn how to use the Unity ML-Agents environment for the third project of the [Deep Reinforcement Learning Nanodegree](https://www.udacity.com/course/deep-reinforcement-learning-nanodegree--nd893) program.\n",
    "\n",
    "### 1. Start the Environment\n",
    "\n",
    "We begin by importing the necessary packages.  If the code cell below returns an error, please revisit the project instructions to double-check that you have installed [Unity ML-Agents](https://github.com/Unity-Technologies/ml-agents/blob/master/docs/Installation.md) and [NumPy](http://www.numpy.org/)."
   ]
  },
  {
   "cell_type": "code",
   "execution_count": 1,
   "metadata": {},
   "outputs": [],
   "source": [
    "import numpy as np\n",
    "import os\n",
    "from unityagents import UnityEnvironment\n",
    "\n",
    "import random\n",
    "import torch\n",
    "import numpy as np\n",
    "from collections import deque\n",
    "import matplotlib.pyplot as plt\n",
    "\n",
    "from ddpg_agent import Agent"
   ]
  },
  {
   "cell_type": "code",
   "execution_count": 2,
   "metadata": {},
   "outputs": [
    {
     "name": "stderr",
     "output_type": "stream",
     "text": [
      "INFO:unityagents:\n",
      "'Academy' started successfully!\n",
      "Unity Academy name: Academy\n",
      "        Number of Brains: 1\n",
      "        Number of External Brains : 1\n",
      "        Lesson number : 0\n",
      "        Reset Parameters :\n",
      "\t\t\n",
      "Unity brain name: TennisBrain\n",
      "        Number of Visual Observations (per agent): 0\n",
      "        Vector Observation space type: continuous\n",
      "        Vector Observation space size (per agent): 8\n",
      "        Number of stacked Vector Observation: 3\n",
      "        Vector Action space type: continuous\n",
      "        Vector Action space size (per agent): 2\n",
      "        Vector Action descriptions: , \n"
     ]
    }
   ],
   "source": [
    "env = UnityEnvironment(file_name=os.getcwd() + \"/Tennis_Linux/Tennis.x86_64\")"
   ]
  },
  {
   "cell_type": "code",
   "execution_count": 3,
   "metadata": {},
   "outputs": [],
   "source": [
    "# get the default brain\n",
    "brain_name = env.brain_names[0]\n",
    "brain = env.brains[brain_name]"
   ]
  },
  {
   "cell_type": "markdown",
   "metadata": {},
   "source": [
    "### 2. Examine the State and Action Spaces\n",
    "\n",
    "In this environment, two agents control rackets to bounce a ball over a net. If an agent hits the ball over the net, it receives a reward of +0.1.  If an agent lets a ball hit the ground or hits the ball out of bounds, it receives a reward of -0.01.  Thus, the goal of each agent is to keep the ball in play.\n",
    "\n",
    "The observation space consists of 8 variables corresponding to the position and velocity of the ball and racket. Two continuous actions are available, corresponding to movement toward (or away from) the net, and jumping. \n",
    "\n",
    "Run the code cell below to print some information about the environment."
   ]
  },
  {
   "cell_type": "code",
   "execution_count": 4,
   "metadata": {},
   "outputs": [
    {
     "name": "stdout",
     "output_type": "stream",
     "text": [
      "Number of agents: 2\n",
      "Size of each action: 2\n",
      "There are 2 agents. Each observes a state with length: 24\n",
      "The state for the first agent looks like: [ 0.          0.          0.          0.          0.          0.\n",
      "  0.          0.          0.          0.          0.          0.\n",
      "  0.          0.          0.          0.         -6.65278625 -1.5\n",
      " -0.          0.          6.83172083  6.         -0.          0.        ]\n"
     ]
    }
   ],
   "source": [
    "# reset the environment\n",
    "env_info = env.reset(train_mode=True)[brain_name]\n",
    "\n",
    "# number of agents \n",
    "num_agents = len(env_info.agents)\n",
    "print('Number of agents:', num_agents)\n",
    "\n",
    "# size of each action\n",
    "action_size = brain.vector_action_space_size\n",
    "print('Size of each action:', action_size)\n",
    "\n",
    "# examine the state space \n",
    "states = env_info.vector_observations\n",
    "state_size = states.shape[1]\n",
    "print('There are {} agents. Each observes a state with length: {}'.format(states.shape[0], state_size))\n",
    "print('The state for the first agent looks like:', states[0])"
   ]
  },
  {
   "cell_type": "markdown",
   "metadata": {},
   "source": [
    "### 3. Take Random Actions in the Environment\n",
    "\n",
    "In the next code cell, you will learn how to use the Python API to control the agents and receive feedback from the environment.\n",
    "\n",
    "Once this cell is executed, you will watch the agents' performance, if they select actions at random with each time step.  A window should pop up that allows you to observe the agents.\n",
    "\n",
    "Of course, as part of the project, you'll have to change the code so that the agents are able to use their experiences to gradually choose better actions when interacting with the environment!"
   ]
  },
  {
   "cell_type": "code",
   "execution_count": 5,
   "metadata": {},
   "outputs": [
    {
     "name": "stdout",
     "output_type": "stream",
     "text": [
      "Episode 10\tCurrent Max Score: 0.00; Avg: 0.02\n",
      "Episode 20\tCurrent Max Score: 0.00; Avg: 0.01\n",
      "Episode 30\tCurrent Max Score: 0.00; Avg: 0.01\n",
      "Episode 40\tCurrent Max Score: 0.00; Avg: 0.01\n",
      "Episode 50\tCurrent Max Score: 0.00; Avg: 0.00\n",
      "Episode 60\tCurrent Max Score: 0.00; Avg: 0.00\n",
      "Episode 70\tCurrent Max Score: 0.00; Avg: 0.00\n",
      "Episode 80\tCurrent Max Score: 0.00; Avg: 0.01\n",
      "Episode 90\tCurrent Max Score: 0.00; Avg: 0.00\n",
      "Episode 100\tCurrent Max Score: 0.00; Avg: 0.00\n",
      "Episode 110\tCurrent Max Score: 0.00; Avg: 0.00\n",
      "Episode 120\tCurrent Max Score: 0.00; Avg: 0.00\n",
      "Episode 130\tCurrent Max Score: 0.00; Avg: 0.00\n",
      "Episode 140\tCurrent Max Score: 0.00; Avg: 0.00\n",
      "Episode 150\tCurrent Max Score: 0.00; Avg: 0.00\n",
      "Episode 160\tCurrent Max Score: 0.00; Avg: 0.00\n",
      "Episode 170\tCurrent Max Score: 0.00; Avg: 0.00\n",
      "Episode 180\tCurrent Max Score: 0.00; Avg: 0.00\n",
      "Episode 190\tCurrent Max Score: 0.00; Avg: 0.00\n",
      "Episode 200\tCurrent Max Score: 0.00; Avg: 0.00\n",
      "Episode 210\tCurrent Max Score: 0.00; Avg: 0.00\n",
      "Episode 220\tCurrent Max Score: 0.00; Avg: 0.00\n",
      "Episode 230\tCurrent Max Score: 0.00; Avg: 0.00\n",
      "Episode 240\tCurrent Max Score: 0.00; Avg: 0.00\n",
      "Episode 250\tCurrent Max Score: 0.00; Avg: 0.00\n",
      "Episode 260\tCurrent Max Score: 0.00; Avg: 0.00\n",
      "Episode 270\tCurrent Max Score: 0.00; Avg: 0.00\n",
      "Episode 280\tCurrent Max Score: 0.00; Avg: 0.00\n",
      "Episode 290\tCurrent Max Score: 0.00; Avg: 0.00\n",
      "Episode 300\tCurrent Max Score: 0.00; Avg: 0.00\n",
      "Episode 310\tCurrent Max Score: 0.00; Avg: 0.01\n",
      "Episode 320\tCurrent Max Score: 0.00; Avg: 0.01\n",
      "Episode 330\tCurrent Max Score: 0.10; Avg: 0.01\n",
      "Episode 340\tCurrent Max Score: 0.10; Avg: 0.02\n",
      "Episode 350\tCurrent Max Score: 0.10; Avg: 0.03\n",
      "Episode 360\tCurrent Max Score: 0.10; Avg: 0.04\n",
      "Episode 370\tCurrent Max Score: 0.00; Avg: 0.04\n",
      "Episode 380\tCurrent Max Score: 0.10; Avg: 0.05\n",
      "Episode 390\tCurrent Max Score: 0.00; Avg: 0.05\n",
      "Episode 400\tCurrent Max Score: 0.20; Avg: 0.06\n",
      "Episode 410\tCurrent Max Score: 0.10; Avg: 0.07\n",
      "Episode 420\tCurrent Max Score: 0.00; Avg: 0.08\n",
      "Episode 430\tCurrent Max Score: 0.10; Avg: 0.09\n",
      "Episode 440\tCurrent Max Score: 0.10; Avg: 0.09\n",
      "Episode 450\tCurrent Max Score: 0.10; Avg: 0.09\n",
      "Episode 460\tCurrent Max Score: 0.10; Avg: 0.09\n",
      "Episode 470\tCurrent Max Score: 0.20; Avg: 0.10\n",
      "Episode 480\tCurrent Max Score: 0.09; Avg: 0.10\n",
      "Episode 490\tCurrent Max Score: 0.20; Avg: 0.11\n",
      "Episode 500\tCurrent Max Score: 0.10; Avg: 0.12\n",
      "Episode 510\tCurrent Max Score: 0.09; Avg: 0.14\n",
      "Episode 520\tCurrent Max Score: 0.10; Avg: 0.15\n",
      "Episode 530\tCurrent Max Score: 0.00; Avg: 0.16\n",
      "Episode 540\tCurrent Max Score: 0.70; Avg: 0.19\n",
      "Episode 550\tCurrent Max Score: 0.60; Avg: 0.21\n",
      "Episode 560\tCurrent Max Score: 0.00; Avg: 0.24\n",
      "Episode 570\tCurrent Max Score: 0.40; Avg: 0.26\n",
      "Episode 580\tCurrent Max Score: 0.10; Avg: 0.28\n",
      "Episode 590\tCurrent Max Score: 0.50; Avg: 0.29\n",
      "Episode 600\tCurrent Max Score: 0.40; Avg: 0.31\n",
      "Episode 610\tCurrent Max Score: 0.09; Avg: 0.30\n",
      "Episode 620\tCurrent Max Score: 0.10; Avg: 0.29\n",
      "Episode 630\tCurrent Max Score: 0.30; Avg: 0.29\n",
      "Episode 640\tCurrent Max Score: 0.50; Avg: 0.28\n",
      "Episode 650\tCurrent Max Score: 0.50; Avg: 0.30\n",
      "Episode 660\tCurrent Max Score: 0.20; Avg: 0.28\n",
      "Episode 670\tCurrent Max Score: 0.20; Avg: 0.29\n",
      "Episode 680\tCurrent Max Score: 1.00; Avg: 0.32\n",
      "Episode 690\tCurrent Max Score: 0.10; Avg: 0.34\n",
      "Episode 700\tCurrent Max Score: 0.10; Avg: 0.35\n",
      "Episode 710\tCurrent Max Score: 0.10; Avg: 0.38\n",
      "Episode 720\tCurrent Max Score: 0.60; Avg: 0.43\n",
      "Episode 730\tCurrent Max Score: 0.20; Avg: 0.47\n",
      "Episode 740\tCurrent Max Score: 0.40; Avg: 0.47\n",
      "Episode 750\tCurrent Max Score: 0.20; Avg: 0.46\n",
      "Episode 760\tCurrent Max Score: 0.20; Avg: 0.47\n",
      "Episode 770\tCurrent Max Score: 2.60; Avg: 0.52\n",
      "Episode 770\tCurrent Max Score: 2.60; Avg: 0.52\n"
     ]
    },
    {
     "data": {
      "image/png": "[encoded data removed]",
      "text/plain": [
       "<Figure size 432x288 with 1 Axes>"
      ]
     },
     "metadata": {
      "needs_background": "light"
     },
     "output_type": "display_data"
    }
   ],
   "source": [
    "def maddpg(n_episodes=1000, max_t=1000, print_every=25):\n",
    "    agent = Agent(state_size=24, action_size=2, random_seed=2)\n",
    "    max_score = []\n",
    "    avg_score = []\n",
    "      \n",
    "    for i_episode in range(1, n_episodes+1):        \n",
    "        env_info = env.reset(train_mode=True)[brain_name]\n",
    "        scores = np.zeros(num_agents)\n",
    "        states = env_info.vector_observations\n",
    "        agent.reset() \n",
    "        for t in range(max_t):\n",
    "            actions = agent.act(states)\n",
    "            env_info = env.step(actions)[brain_name]        # send the action to the environment\n",
    "            next_states = env_info.vector_observations   # get the next state\n",
    "            rewards = env_info.rewards                   # get the reward\n",
    "            dones = env_info.local_done                  # see if episode has finished\n",
    "            \n",
    "            for state, action, reward, next_state, done in zip(states, actions, rewards,next_states,dones):\n",
    "                agent.step(state, action, reward, next_state, done,t)\n",
    "            states = next_states            \n",
    "         \n",
    "            scores+=rewards\n",
    "            if done:\n",
    "                break \n",
    "        \n",
    "        max_score.append(np.max(scores))\n",
    "        current_average = np.average(max_score[-100:])\n",
    "        avg_score.append(current_average)\n",
    "        \n",
    "        if i_episode % print_every == 0:\n",
    "            print('\\rEp. {}\\tCurrent Max: {:.2f}; Avg: {:.2f}'.format(i_episode, np.max(scores),current_average))\n",
    "            \n",
    "            \n",
    "        if current_average > .5:    \n",
    "            print('\\rEp. {}\\tCurrent Max: {:.2f}; Avg: {:.2f}'.format(i_episode, np.max(scores),current_average))\n",
    "            torch.save(agent.actor_local.state_dict(), 'checkpoint_actor.pth')\n",
    "            torch.save(agent.critic_local.state_dict(), 'checkpoint_critic.pth')\n",
    "            break\n",
    "    \n",
    "    return max_score\n",
    "\n",
    "scores = maddpg()\n",
    "\n",
    "fig = plt.figure()\n",
    "ax = fig.add_subplot(111)\n",
    "plt.plot(np.arange(1, len(scores)+1), scores)\n",
    "plt.ylabel('Score')\n",
    "plt.xlabel('Episode #')\n",
    "plt.show()\n",
    "env.close()"
   ]
  },
  {
   "cell_type": "markdown",
   "metadata": {},
   "source": [
    "When finished, you can close the environment."
   ]
  },
  {
   "cell_type": "code",
   "execution_count": 8,
   "metadata": {},
   "outputs": [
    {
     "ename": "NameError",
     "evalue": "name 'i_episode' is not defined",
     "output_type": "error",
     "traceback": [
      "\u001b[0;31m---------------------------------------------------------------------------\u001b[0m",
      "\u001b[0;31mNameError\u001b[0m                                 Traceback (most recent call last)",
      "\u001b[0;32m<ipython-input-8-524049027a1a>\u001b[0m in \u001b[0;36m<module>\u001b[0;34m\u001b[0m\n\u001b[0;32m----> 1\u001b[0;31m \u001b[0mprint\u001b[0m\u001b[0;34m(\u001b[0m\u001b[0mi_episode\u001b[0m\u001b[0;34m)\u001b[0m\u001b[0;34m\u001b[0m\u001b[0;34m\u001b[0m\u001b[0m\n\u001b[0m",
      "\u001b[0;31mNameError\u001b[0m: name 'i_episode' is not defined"
     ]
    }
   ],
   "source": [
    "print(i_episode)"
   ]
  },
  {
   "cell_type": "code",
   "execution_count": null,
   "metadata": {},
   "outputs": [],
   "source": []
  }
 ],
 "metadata": {
  "kernelspec": {
   "display_name": "Python 3",
   "language": "python",
   "name": "python3"
  },
  "language_info": {
   "codemirror_mode": {
    "name": "ipython",
    "version": 3
   },
   "file_extension": ".py",
   "mimetype": "text/x-python",
   "name": "python",
   "nbconvert_exporter": "python",
   "pygments_lexer": "ipython3",
   "version": "3.6.12"
  }
 },
 "nbformat": 4,
 "nbformat_minor": 2
}
